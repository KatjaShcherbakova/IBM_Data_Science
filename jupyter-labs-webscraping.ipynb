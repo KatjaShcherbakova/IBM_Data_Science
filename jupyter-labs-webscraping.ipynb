{
    "cells": [
        {
            "cell_type": "markdown",
            "metadata": {},
            "source": "<center>\n    <img src=\"https://gitlab.com/ibm/skills-network/courses/placeholder101/-/raw/master/labs/module%201/images/IDSNlogo.png\" width=\"300\" alt=\"cognitiveclass.ai logo\"  />\n</center>\n"
        },
        {
            "cell_type": "markdown",
            "metadata": {},
            "source": "# **Space X  Falcon 9 First Stage Landing Prediction**\n"
        },
        {
            "cell_type": "markdown",
            "metadata": {},
            "source": "## Web scraping Falcon 9 and Falcon Heavy Launches Records from Wikipedia\n"
        },
        {
            "cell_type": "markdown",
            "metadata": {},
            "source": "Estimated time needed: **40** minutes\n"
        },
        {
            "cell_type": "markdown",
            "metadata": {},
            "source": "In this lab, you will be performing web scraping to collect Falcon 9 historical launch records from a Wikipedia page titled `List of Falcon 9 and Falcon Heavy launches`\n\n[https://en.wikipedia.org/wiki/List_of_Falcon\\_9\\_and_Falcon_Heavy_launches](https://en.wikipedia.org/wiki/List_of_Falcon\\_9\\_and_Falcon_Heavy_launches?utm_medium=Exinfluencer&utm_source=Exinfluencer&utm_content=000026UJ&utm_term=10006555&utm_id=NA-SkillsNetwork-Channel-SkillsNetworkCoursesIBMDS0321ENSkillsNetwork26802033-2021-01-01)\n"
        },
        {
            "cell_type": "markdown",
            "metadata": {},
            "source": "![](https://cf-courses-data.s3.us.cloud-object-storage.appdomain.cloud/IBM-DS0321EN-SkillsNetwork/labs/module\\_1\\_L2/images/Falcon9\\_rocket_family.svg)\n"
        },
        {
            "cell_type": "markdown",
            "metadata": {},
            "source": "Falcon 9 first stage will land successfully\n"
        },
        {
            "cell_type": "markdown",
            "metadata": {},
            "source": "![](https://cf-courses-data.s3.us.cloud-object-storage.appdomain.cloud/IBMDeveloperSkillsNetwork-DS0701EN-SkillsNetwork/api/Images/landing\\_1.gif)\n"
        },
        {
            "cell_type": "markdown",
            "metadata": {},
            "source": "Several examples of an unsuccessful landing are shown here:\n"
        },
        {
            "cell_type": "markdown",
            "metadata": {},
            "source": "![](https://cf-courses-data.s3.us.cloud-object-storage.appdomain.cloud/IBMDeveloperSkillsNetwork-DS0701EN-SkillsNetwork/api/Images/crash.gif)\n"
        },
        {
            "cell_type": "markdown",
            "metadata": {},
            "source": "More specifically, the launch records are stored in a HTML table shown below:\n"
        },
        {
            "cell_type": "markdown",
            "metadata": {},
            "source": "![](https://cf-courses-data.s3.us.cloud-object-storage.appdomain.cloud/IBM-DS0321EN-SkillsNetwork/labs/module\\_1\\_L2/images/falcon9-launches-wiki.png)\n"
        },
        {
            "cell_type": "markdown",
            "metadata": {},
            "source": "## Objectives\n\nWeb scrap Falcon 9 launch records with `BeautifulSoup`:\n\n*   Extract a Falcon 9 launch records HTML table from Wikipedia\n*   Parse the table and convert it into a Pandas data frame\n"
        },
        {
            "cell_type": "markdown",
            "metadata": {},
            "source": "First let's import required packages for this lab\n"
        },
        {
            "cell_type": "code",
            "execution_count": 1,
            "metadata": {},
            "outputs": [
                {
                    "name": "stdout",
                    "output_type": "stream",
                    "text": "Requirement already satisfied: beautifulsoup4 in /opt/conda/envs/Python-3.8-main/lib/python3.8/site-packages (4.9.3)\nRequirement already satisfied: soupsieve>1.2 in /opt/conda/envs/Python-3.8-main/lib/python3.8/site-packages (from beautifulsoup4) (2.2.1)\nRequirement already satisfied: requests in /opt/conda/envs/Python-3.8-main/lib/python3.8/site-packages (2.25.1)\nRequirement already satisfied: certifi>=2017.4.17 in /opt/conda/envs/Python-3.8-main/lib/python3.8/site-packages (from requests) (2021.10.8)\nRequirement already satisfied: urllib3<1.27,>=1.21.1 in /opt/conda/envs/Python-3.8-main/lib/python3.8/site-packages (from requests) (1.26.6)\nRequirement already satisfied: chardet<5,>=3.0.2 in /opt/conda/envs/Python-3.8-main/lib/python3.8/site-packages (from requests) (3.0.4)\nRequirement already satisfied: idna<3,>=2.5 in /opt/conda/envs/Python-3.8-main/lib/python3.8/site-packages (from requests) (2.8)\n"
                }
            ],
            "source": "!pip3 install beautifulsoup4\n!pip3 install requests"
        },
        {
            "cell_type": "code",
            "execution_count": 2,
            "metadata": {},
            "outputs": [],
            "source": "import sys\n\nimport requests\nfrom bs4 import BeautifulSoup\nimport re\nimport unicodedata\nimport pandas as pd"
        },
        {
            "cell_type": "markdown",
            "metadata": {},
            "source": "and we will provide some helper functions for you to process web scraped HTML table\n"
        },
        {
            "cell_type": "code",
            "execution_count": 3,
            "metadata": {},
            "outputs": [],
            "source": "def date_time(table_cells):\n    \"\"\"\n    This function returns the data and time from the HTML  table cell\n    Input: the  element of a table data cell extracts extra row\n    \"\"\"\n    return [data_time.strip() for data_time in list(table_cells.strings)][0:2]\n\ndef booster_version(table_cells):\n    \"\"\"\n    This function returns the booster version from the HTML  table cell \n    Input: the  element of a table data cell extracts extra row\n    \"\"\"\n    out=''.join([booster_version for i,booster_version in enumerate( table_cells.strings) if i%2==0][0:-1])\n    return out\n\ndef landing_status(table_cells):\n    \"\"\"\n    This function returns the landing status from the HTML table cell \n    Input: the  element of a table data cell extracts extra row\n    \"\"\"\n    out=[i for i in table_cells.strings][0]\n    return out\n\n\ndef get_mass(table_cells):\n    mass=unicodedata.normalize(\"NFKD\", table_cells.text).strip()\n    if mass:\n        mass.find(\"kg\")\n        new_mass=mass[0:mass.find(\"kg\")+2]\n    else:\n        new_mass=0\n    return new_mass\n\n\ndef extract_column_from_header(row):\n    \"\"\"\n    This function returns the landing status from the HTML table cell \n    Input: the  element of a table data cell extracts extra row\n    \"\"\"\n    if (row.br):\n        row.br.extract()\n    if row.a:\n        row.a.extract()\n    if row.sup:\n        row.sup.extract()\n        \n    colunm_name = ' '.join(row.contents)\n    \n    # Filter the digit and empty names\n    if not(colunm_name.strip().isdigit()):\n        colunm_name = colunm_name.strip()\n        return colunm_name    \n"
        },
        {
            "cell_type": "markdown",
            "metadata": {},
            "source": "To keep the lab tasks consistent, you will be asked to scrape the data from a snapshot of the  `List of Falcon 9 and Falcon Heavy launches` Wikipage updated on\n`9th June 2021`\n"
        },
        {
            "cell_type": "code",
            "execution_count": 4,
            "metadata": {},
            "outputs": [],
            "source": "static_url = \"https://en.wikipedia.org/w/index.php?title=List_of_Falcon_9_and_Falcon_Heavy_launches&oldid=1027686922\""
        },
        {
            "cell_type": "markdown",
            "metadata": {},
            "source": "Next, request the HTML page from the above URL and get a `response` object\n"
        },
        {
            "cell_type": "markdown",
            "metadata": {},
            "source": "### TASK 1: Request the Falcon9 Launch Wiki page from its URL\n"
        },
        {
            "cell_type": "markdown",
            "metadata": {},
            "source": "First, let's perform an HTTP GET method to request the Falcon9 Launch HTML page, as an HTTP response.\n"
        },
        {
            "cell_type": "code",
            "execution_count": 5,
            "metadata": {},
            "outputs": [],
            "source": "# use requests.get() method with the provided static_url\n# assign the response to a object\n\nresponse_html = requests.get(static_url).text\n"
        },
        {
            "cell_type": "markdown",
            "metadata": {},
            "source": "Create a `BeautifulSoup` object from the HTML `response`\n"
        },
        {
            "cell_type": "code",
            "execution_count": 6,
            "metadata": {},
            "outputs": [],
            "source": "# Use BeautifulSoup() to create a BeautifulSoup object from a response text content\n\nsoup = BeautifulSoup(response_html, 'html.parser')"
        },
        {
            "cell_type": "markdown",
            "metadata": {},
            "source": "Print the page title to verify if the `BeautifulSoup` object was created properly\n"
        },
        {
            "cell_type": "code",
            "execution_count": 7,
            "metadata": {},
            "outputs": [
                {
                    "data": {
                        "text/plain": "<title>List of Falcon 9 and Falcon Heavy launches - Wikipedia</title>"
                    },
                    "execution_count": 7,
                    "metadata": {},
                    "output_type": "execute_result"
                }
            ],
            "source": "# Use soup.title attribute\nsoup.title"
        },
        {
            "cell_type": "markdown",
            "metadata": {},
            "source": "### TASK 2: Extract all column/variable names from the HTML table header\n"
        },
        {
            "cell_type": "markdown",
            "metadata": {},
            "source": "Next, we want to collect all relevant column names from the HTML table header\n"
        },
        {
            "cell_type": "markdown",
            "metadata": {},
            "source": "Let's try to find all tables on the wiki page first. If you need to refresh your memory about `BeautifulSoup`, please check the external reference link towards the end of this lab\n"
        },
        {
            "cell_type": "code",
            "execution_count": 8,
            "metadata": {},
            "outputs": [],
            "source": "# Use the find_all function in the BeautifulSoup object, with element type `table`\n# Assign the result to a list called `html_tables`\nhtml_tables = soup.find_all('table')"
        },
        {
            "cell_type": "markdown",
            "metadata": {},
            "source": "Starting from the third table is our target table contains the actual launch records.\n"
        },
        {
            "cell_type": "code",
            "execution_count": 9,
            "metadata": {},
            "outputs": [
                {
                    "name": "stdout",
                    "output_type": "stream",
                    "text": "[<th scope=\"col\">Flight No.\n</th>, <th scope=\"col\">Date and<br/>time (<a href=\"/wiki/Coordinated_Universal_Time\" title=\"Coordinated Universal Time\">UTC</a>)\n</th>, <th scope=\"col\"><a href=\"/wiki/List_of_Falcon_9_first-stage_boosters\" title=\"List of Falcon 9 first-stage boosters\">Version,<br/>Booster</a> <sup class=\"reference\" id=\"cite_ref-booster_11-0\"><a href=\"#cite_note-booster-11\">[b]</a></sup>\n</th>, <th scope=\"col\">Launch site\n</th>, <th scope=\"col\">Payload<sup class=\"reference\" id=\"cite_ref-Dragon_12-0\"><a href=\"#cite_note-Dragon-12\">[c]</a></sup>\n</th>, <th scope=\"col\">Payload mass\n</th>, <th scope=\"col\">Orbit\n</th>, <th scope=\"col\">Customer\n</th>, <th scope=\"col\">Launch<br/>outcome\n</th>, <th scope=\"col\"><a href=\"/wiki/Falcon_9_first-stage_landing_tests\" title=\"Falcon 9 first-stage landing tests\">Booster<br/>landing</a>\n</th>, <th rowspan=\"2\" scope=\"row\" style=\"text-align:center;\">1\n</th>, <th rowspan=\"2\" scope=\"row\" style=\"text-align:center;\">2\n</th>, <th rowspan=\"2\" scope=\"row\" style=\"text-align:center;\">3\n</th>, <th rowspan=\"3\" scope=\"row\" style=\"text-align:center;\">4\n</th>, <th rowspan=\"2\" scope=\"row\" style=\"text-align:center;\">5\n</th>, <th rowspan=\"2\" scope=\"row\" style=\"text-align:center;\">6\n</th>, <th rowspan=\"2\" scope=\"row\" style=\"text-align:center;\">7\n</th>]\n"
                }
            ],
            "source": "# Let's print the third table and check its content\nfirst_launch_table = html_tables[2]\nprint(first_launch_table.find_all('th'))"
        },
        {
            "cell_type": "markdown",
            "metadata": {},
            "source": "You should able to see the columns names embedded in the table header elements `<th>` as follows:\n"
        },
        {
            "cell_type": "markdown",
            "metadata": {},
            "source": "```\n<tr>\n<th scope=\"col\">Flight No.\n</th>\n<th scope=\"col\">Date and<br/>time (<a href=\"/wiki/Coordinated_Universal_Time\" title=\"Coordinated Universal Time\">UTC</a>)\n</th>\n<th scope=\"col\"><a href=\"/wiki/List_of_Falcon_9_first-stage_boosters\" title=\"List of Falcon 9 first-stage boosters\">Version,<br/>Booster</a> <sup class=\"reference\" id=\"cite_ref-booster_11-0\"><a href=\"#cite_note-booster-11\">[b]</a></sup>\n</th>\n<th scope=\"col\">Launch site\n</th>\n<th scope=\"col\">Payload<sup class=\"reference\" id=\"cite_ref-Dragon_12-0\"><a href=\"#cite_note-Dragon-12\">[c]</a></sup>\n</th>\n<th scope=\"col\">Payload mass\n</th>\n<th scope=\"col\">Orbit\n</th>\n<th scope=\"col\">Customer\n</th>\n<th scope=\"col\">Launch<br/>outcome\n</th>\n<th scope=\"col\"><a href=\"/wiki/Falcon_9_first-stage_landing_tests\" title=\"Falcon 9 first-stage landing tests\">Booster<br/>landing</a>\n</th></tr>\n```\n"
        },
        {
            "cell_type": "markdown",
            "metadata": {},
            "source": "Next, we just need to iterate through the `<th>` elements and apply the provided `extract_column_from_header()` to extract column name one by one\n"
        },
        {
            "cell_type": "code",
            "execution_count": 10,
            "metadata": {},
            "outputs": [],
            "source": "column_names = []\n\n# Apply find_all() function with `th` element on first_launch_table\n# Iterate each th element and apply the provided extract_column_from_header() to get a column name\n# Append the Non-empty column name (`if name is not None and len(name) > 0`) into a list called column_names\nfor row in first_launch_table.find_all('th'):\n    name = extract_column_from_header(row)\n    if name is not None and len(name) > 0:\n        column_names.append(name)"
        },
        {
            "cell_type": "markdown",
            "metadata": {},
            "source": "Check the extracted column names\n"
        },
        {
            "cell_type": "code",
            "execution_count": 11,
            "metadata": {},
            "outputs": [
                {
                    "name": "stdout",
                    "output_type": "stream",
                    "text": "['Flight No.', 'Date and time ( )', 'Launch site', 'Payload', 'Payload mass', 'Orbit', 'Customer', 'Launch outcome']\n"
                }
            ],
            "source": "print(column_names)"
        },
        {
            "cell_type": "markdown",
            "metadata": {},
            "source": "## TASK 3: Create a data frame by parsing the launch HTML tables\n"
        },
        {
            "cell_type": "markdown",
            "metadata": {},
            "source": "We will create an empty dictionary with keys from the extracted column names in the previous task. Later, this dictionary will be converted into a Pandas dataframe\n"
        },
        {
            "cell_type": "code",
            "execution_count": 158,
            "metadata": {},
            "outputs": [],
            "source": "launch_dict= dict.fromkeys(column_names)\n\n# Remove an irrelvant column\ndel launch_dict['Date and time ( )']\n\n# Let's initial the launch_dict with each value to be an empty list\nlaunch_dict['Flight No.'] = []\nlaunch_dict['Launch site'] = []\nlaunch_dict['Payload'] = []\nlaunch_dict['Payload mass'] = []\nlaunch_dict['Orbit'] = []\nlaunch_dict['Customer'] = []\nlaunch_dict['Launch outcome'] = []\n# Added some new columns\nlaunch_dict['Version Booster']=[]\nlaunch_dict['Booster landing']=[]\nlaunch_dict['Date']=[]\nlaunch_dict['Time']=[]"
        },
        {
            "cell_type": "markdown",
            "metadata": {},
            "source": "Next, we just need to fill up the `launch_dict` with launch records extracted from table rows.\n"
        },
        {
            "cell_type": "markdown",
            "metadata": {},
            "source": "Usually, HTML tables in Wiki pages are likely to contain unexpected annotations and other types of noises, such as reference links `B0004.1[8]`, missing values `N/A [e]`, inconsistent formatting, etc.\n"
        },
        {
            "cell_type": "markdown",
            "metadata": {},
            "source": "To simplify the parsing process, we have provided an incomplete code snippet below to help you to fill up the `launch_dict`. Please complete the following code snippet with TODOs or you can choose to write your own logic to parse all launch tables:\n"
        },
        {
            "cell_type": "code",
            "execution_count": 159,
            "metadata": {},
            "outputs": [
                {
                    "name": "stdout",
                    "output_type": "stream",
                    "text": "['SpaceX']\n['NASA', 'COTS', 'NRO']\n['NASA', 'COTS']\n['NASA', 'CRS']\n['NASA', 'CRS']\n['MDA']\n['SES']\n['Thaicom']\n['NASA', 'CRS']\n['Orbcomm']\n['AsiaSat']\n['AsiaSat']\n['NASA', 'CRS']\n['NASA', 'CRS']\n['USAF', 'NASA', 'NOAA']\n['ABS', 'Eutelsat']\n['NASA', 'CRS']\n['Turkmenistan NationalSpace Agency']\n['NASA', 'CRS']\n['Orbcomm']\n['NASA', 'LSP', 'NOAA', 'CNES']\n['SES']\n['NASA', 'CRS']\n['SKY Perfect JSAT Group']\n['Thaicom']\n['ABS', 'Eutelsat']\n['NASA', 'CRS']\n['SKY Perfect JSAT Group']\n['Iridium Communications']\n['NASA', 'CRS']\n['EchoStar']\n['SES']\n['NRO']\n['Inmarsat']\n['NASA', 'CRS']\n['Bulsatcom']\n['Iridium Communications']\n['Intelsat']\n['NASA', 'CRS']\n['NSPO']\n['USAF']\n['Iridium Communications']\n['SES S.A.', 'EchoStar']\n['KT Corporation']\n['NASA', 'CRS']\n['Iridium Communications']\n['Northrop Grumman']\n['SES']\n['Hisdesat', 'exactEarth', 'SpaceX']\n['Hispasat', 'NovaWurks']\n['Iridium Communications']\n['NASA', 'CRS']\n['NASA', 'LSP']\n['Thales-Alenia', 'BTRC']\n['Iridium Communications', 'GFZ', 'NASA']\n['SES']\n['NASA', 'CRS']\n['Telesat']\n['Iridium Communications']\n['Telkom Indonesia']\n['Telesat']\n['CONAE']\n[\"Es'hailSat\"]\n['Spaceflight Industries']\n['NASA', 'CRS']\n['USAF']\n['Iridium Communications']\n['PSN', 'SpaceIL', 'IAI', 'Air Force Research']\n['NASA', 'CCD']\n['NASA', 'CRS']\n['SpaceX']\n['Canadian Space Agency']\n['NASA', 'CRS']\n['Spacecom']\n['SpaceX']\n['NASA', 'CRS']\n['Sky Perfect JSAT', 'Kacific 1']\n['SpaceX']\n['NASA', 'CTS']\n['SpaceX']\n['SpaceX']\n['NASA', 'CRS']\n['SpaceX']\n['SpaceX']\n['NASA', 'CCDev']\n['SpaceX']\n['SpaceX', 'Planet Labs']\n['U.S. Space Force']\n['Republic of Korea Army']\n['SpaceX', 'Spaceflight Industries']\n['SpaceX', 'Planet Labs']\n['CONAE', 'PlanetIQ', 'Tyvak']\n['SpaceX']\n['SpaceX']\n['SpaceX']\n['SpaceX']\n['USSF']\n['NASA', 'CCP']\n['NASA', 'NOAA', 'ESA', 'EUMETSAT']\n['SpaceX']\n['NASA', 'CRS']\n['Sirius XM']\n['NRO']\n['T\u00fcrksat']\n['SpaceX']\n[]\n['SpaceX']\n['SpaceX']\n['SpaceX']\n['SpaceX']\n['SpaceX']\n['SpaceX']\n['SpaceX']\n['NASA', 'CTS']\n['SpaceX']\n['SpaceX']\n['SpaceX']\n['SpaceX', 'Capella Space', 'Tyvak']\n['SpaceX']\n['NASA', 'CRS']\n['Sirius XM']\n"
                }
            ],
            "source": "extracted_row = 0\n#Extract each table \nfor table_number,table in enumerate(soup.find_all('table',\"wikitable plainrowheaders collapsible\")):\n   # get table row \n    for rows in table.find_all(\"tr\"):\n        #check to see if first table heading is as number corresponding to launch a number \n        if rows.th:\n            if rows.th.string:\n                flight_number=rows.th.string.strip()\n                flag=flight_number.isdigit()\n        else:\n            flag=False\n        #get table element \n        row=rows.find_all('td')\n         #if it is number save cells in a dictonary \n        if flag:\n            extracted_row += 1\n            # Flight Number value\n            # TODO: Append the flight_number into launch_dict with key `Flight No.`\n            launch_dict['Flight No.'].append(flight_number)\n            #print(flight_number)\n            \n            datatimelist=date_time(row[0])\n            # Date value\n            # TODO: Append the date into launch_dict with key `Date`\n            date = datatimelist[0].strip(',')\n            launch_dict['Date'].append(date)\n            #print(date)\n            \n            # Time value\n            # TODO: Append the time into launch_dict with key `Time`\n            time = datatimelist[1]\n            launch_dict['Time'].append(time)\n           #print(time)\n              \n            # Booster version\n            # TODO: Append the bv into launch_dict with key `Version Booster`\n            bv=booster_version(row[1])\n            if not(bv):\n                bv=row[1].a.string\n            launch_dict['Version Booster'].append(bv)\n           #print(bv)\n            \n            # Launch Site\n            # TODO: Append the bv into launch_dict with key `Launch Site`\n            launch_site = row[2].a.string\n            launch_dict['Launch site'].append(launch_site)\n            #print(launch_site)\n            \n            # Payload\n            # TODO: Append the payload into launch_dict with key `Payload`\n            payload = row[3].a.string\n            launch_dict['Payload'].append(payload)\n            #print(payload)\n            \n            # Payload Mass\n            # TODO: Append the payload_mass into launch_dict with key `Payload mass`\n            payload_mass = get_mass(row[4])\n            launch_dict['Payload mass'].append(payload_mass)\n            #print(payload)\n            \n            # Orbit\n            # TODO: Append the orbit into launch_dict with key `Orbit`\n            orbit = row[5].a.string\n            launch_dict['Orbit'].append(orbit)\n            #print(orbit)\n            \n            # Customer\n            # TODO: Append the customer into launch_dict with key `Customer`\n            #customer = row[6].find_all('a')\n            customer = row[6].select('a[title]')\n            cust = []\n            for a in customer:\n                #print(a.text)\n                cust.append(a.text)\n            print(cust)\n            launch_dict['Customer'].append(cust)\n            \n         \n            #launch_dict['Customer'].append(customer)\n            #print(customer,'\\n')\n            \n            # Launch outcome\n            # TODO: Append the launch_outcome into launch_dict with key `Launch outcome`\n            launch_outcome = list(row[7].strings)[0]\n            launch_dict['Launch outcome'].append(launch_outcome)\n            #print(launch_outcome)\n            \n            # Booster landing\n            # TODO: Append the launch_outcome into launch_dict with key `Booster landing`\n            booster_landing = landing_status(row[8])\n            launch_dict['Booster landing'].append(booster_landing)\n            #print(booster_landing)\n            "
        },
        {
            "cell_type": "markdown",
            "metadata": {},
            "source": "After you have fill in the parsed launch record values into `launch_dict`, you can create a dataframe from it.\n"
        },
        {
            "cell_type": "code",
            "execution_count": 160,
            "metadata": {},
            "outputs": [
                {
                    "data": {
                        "text/plain": "121"
                    },
                    "execution_count": 160,
                    "metadata": {},
                    "output_type": "execute_result"
                }
            ],
            "source": "len(launch_dict['Customer'])"
        },
        {
            "cell_type": "code",
            "execution_count": 161,
            "metadata": {},
            "outputs": [],
            "source": "df=pd.DataFrame(launch_dict)"
        },
        {
            "cell_type": "code",
            "execution_count": 162,
            "metadata": {},
            "outputs": [
                {
                    "data": {
                        "text/html": "<div>\n<style scoped>\n    .dataframe tbody tr th:only-of-type {\n        vertical-align: middle;\n    }\n\n    .dataframe tbody tr th {\n        vertical-align: top;\n    }\n\n    .dataframe thead th {\n        text-align: right;\n    }\n</style>\n<table border=\"1\" class=\"dataframe\">\n  <thead>\n    <tr style=\"text-align: right;\">\n      <th></th>\n      <th>Flight No.</th>\n      <th>Launch site</th>\n      <th>Payload</th>\n      <th>Payload mass</th>\n      <th>Orbit</th>\n      <th>Customer</th>\n      <th>Launch outcome</th>\n      <th>Version Booster</th>\n      <th>Booster landing</th>\n      <th>Date</th>\n      <th>Time</th>\n    </tr>\n  </thead>\n  <tbody>\n    <tr>\n      <th>0</th>\n      <td>1</td>\n      <td>CCAFS</td>\n      <td>Dragon Spacecraft Qualification Unit</td>\n      <td>0</td>\n      <td>LEO</td>\n      <td>[SpaceX]</td>\n      <td>Success\\n</td>\n      <td>F9 v1.0B0003.1</td>\n      <td>Failure</td>\n      <td>4 June 2010</td>\n      <td>18:45</td>\n    </tr>\n    <tr>\n      <th>1</th>\n      <td>2</td>\n      <td>CCAFS</td>\n      <td>Dragon</td>\n      <td>0</td>\n      <td>LEO</td>\n      <td>[NASA, COTS, NRO]</td>\n      <td>Success</td>\n      <td>F9 v1.0B0004.1</td>\n      <td>Failure</td>\n      <td>8 December 2010</td>\n      <td>15:43</td>\n    </tr>\n    <tr>\n      <th>2</th>\n      <td>3</td>\n      <td>CCAFS</td>\n      <td>Dragon</td>\n      <td>525 kg</td>\n      <td>LEO</td>\n      <td>[NASA, COTS]</td>\n      <td>Success</td>\n      <td>F9 v1.0B0005.1</td>\n      <td>No attempt\\n</td>\n      <td>22 May 2012</td>\n      <td>07:44</td>\n    </tr>\n    <tr>\n      <th>3</th>\n      <td>4</td>\n      <td>CCAFS</td>\n      <td>SpaceX CRS-1</td>\n      <td>4,700 kg</td>\n      <td>LEO</td>\n      <td>[NASA, CRS]</td>\n      <td>Success\\n</td>\n      <td>F9 v1.0B0006.1</td>\n      <td>No attempt</td>\n      <td>8 October 2012</td>\n      <td>00:35</td>\n    </tr>\n    <tr>\n      <th>4</th>\n      <td>5</td>\n      <td>CCAFS</td>\n      <td>SpaceX CRS-2</td>\n      <td>4,877 kg</td>\n      <td>LEO</td>\n      <td>[NASA, CRS]</td>\n      <td>Success\\n</td>\n      <td>F9 v1.0B0007.1</td>\n      <td>No attempt\\n</td>\n      <td>1 March 2013</td>\n      <td>15:10</td>\n    </tr>\n    <tr>\n      <th>5</th>\n      <td>6</td>\n      <td>VAFB</td>\n      <td>CASSIOPE</td>\n      <td>500 kg</td>\n      <td>Polar orbit</td>\n      <td>[MDA]</td>\n      <td>Success</td>\n      <td>F9 v1.1B1003</td>\n      <td>Uncontrolled</td>\n      <td>29 September 2013</td>\n      <td>16:00</td>\n    </tr>\n    <tr>\n      <th>6</th>\n      <td>7</td>\n      <td>CCAFS</td>\n      <td>SES-8</td>\n      <td>3,170 kg</td>\n      <td>GTO</td>\n      <td>[SES]</td>\n      <td>Success</td>\n      <td>F9 v1.1</td>\n      <td>No attempt</td>\n      <td>3 December 2013</td>\n      <td>22:41</td>\n    </tr>\n    <tr>\n      <th>7</th>\n      <td>8</td>\n      <td>CCAFS</td>\n      <td>Thaicom 6</td>\n      <td>3,325 kg</td>\n      <td>GTO</td>\n      <td>[Thaicom]</td>\n      <td>Success</td>\n      <td>F9 v1.1</td>\n      <td>No attempt</td>\n      <td>6 January 2014</td>\n      <td>22:06</td>\n    </tr>\n    <tr>\n      <th>8</th>\n      <td>9</td>\n      <td>Cape Canaveral</td>\n      <td>SpaceX CRS-3</td>\n      <td>2,296 kg</td>\n      <td>LEO</td>\n      <td>[NASA, CRS]</td>\n      <td>Success\\n</td>\n      <td>F9 v1.1</td>\n      <td>Controlled</td>\n      <td>18 April 2014</td>\n      <td>19:25</td>\n    </tr>\n    <tr>\n      <th>9</th>\n      <td>10</td>\n      <td>Cape Canaveral</td>\n      <td>Orbcomm-OG2</td>\n      <td>1,316 kg</td>\n      <td>LEO</td>\n      <td>[Orbcomm]</td>\n      <td>Success</td>\n      <td>F9 v1.1</td>\n      <td>Controlled</td>\n      <td>14 July 2014</td>\n      <td>15:15</td>\n    </tr>\n    <tr>\n      <th>10</th>\n      <td>11</td>\n      <td>Cape Canaveral</td>\n      <td>AsiaSat 8</td>\n      <td>4,535 kg</td>\n      <td>GTO</td>\n      <td>[AsiaSat]</td>\n      <td>Success</td>\n      <td>F9 v1.1</td>\n      <td>No attempt</td>\n      <td>5 August 2014</td>\n      <td>08:00</td>\n    </tr>\n    <tr>\n      <th>11</th>\n      <td>12</td>\n      <td>Cape Canaveral</td>\n      <td>AsiaSat 6</td>\n      <td>4,428 kg</td>\n      <td>GTO</td>\n      <td>[AsiaSat]</td>\n      <td>Success</td>\n      <td>F9 v1.1</td>\n      <td>No attempt\\n</td>\n      <td>7 September 2014</td>\n      <td>05:00</td>\n    </tr>\n    <tr>\n      <th>12</th>\n      <td>13</td>\n      <td>Cape Canaveral</td>\n      <td>SpaceX CRS-4</td>\n      <td>2,216 kg</td>\n      <td>LEO</td>\n      <td>[NASA, CRS]</td>\n      <td>Success</td>\n      <td>F9 v1.1</td>\n      <td>Uncontrolled</td>\n      <td>21 September 2014</td>\n      <td>05:52</td>\n    </tr>\n    <tr>\n      <th>13</th>\n      <td>14</td>\n      <td>Cape Canaveral</td>\n      <td>SpaceX CRS-5</td>\n      <td>2,395 kg</td>\n      <td>LEO</td>\n      <td>[NASA, CRS]</td>\n      <td>Success</td>\n      <td>F9 v1.1</td>\n      <td>Failure</td>\n      <td>10 January 2015</td>\n      <td>09:47</td>\n    </tr>\n    <tr>\n      <th>14</th>\n      <td>15</td>\n      <td>Cape Canaveral</td>\n      <td>DSCOVR</td>\n      <td>570 kg</td>\n      <td>HEO</td>\n      <td>[USAF, NASA, NOAA]</td>\n      <td>Success\\n</td>\n      <td>F9 v1.1</td>\n      <td>Controlled</td>\n      <td>11 February 2015</td>\n      <td>23:03</td>\n    </tr>\n    <tr>\n      <th>15</th>\n      <td>16</td>\n      <td>Cape Canaveral</td>\n      <td>ABS-3A</td>\n      <td>4,159 kg</td>\n      <td>GTO</td>\n      <td>[ABS, Eutelsat]</td>\n      <td>Success\\n</td>\n      <td>F9 v1.1</td>\n      <td>No attempt</td>\n      <td>2 March 2015</td>\n      <td>03:50</td>\n    </tr>\n    <tr>\n      <th>16</th>\n      <td>17</td>\n      <td>Cape Canaveral</td>\n      <td>SpaceX CRS-6</td>\n      <td>1,898 kg</td>\n      <td>LEO</td>\n      <td>[NASA, CRS]</td>\n      <td>Success\\n</td>\n      <td>F9 v1.1</td>\n      <td>Failure</td>\n      <td>14 April 2015</td>\n      <td>20:10</td>\n    </tr>\n    <tr>\n      <th>17</th>\n      <td>18</td>\n      <td>Cape Canaveral</td>\n      <td>T\u00fcrkmen\u00c4lem 52\u00b0E / MonacoSAT</td>\n      <td>4,707 kg</td>\n      <td>GTO</td>\n      <td>[Turkmenistan NationalSpace Agency]</td>\n      <td>Success\\n</td>\n      <td>F9 v1.1</td>\n      <td>No attempt</td>\n      <td>27 April 2015</td>\n      <td>23:03</td>\n    </tr>\n    <tr>\n      <th>18</th>\n      <td>19</td>\n      <td>Cape Canaveral</td>\n      <td>SpaceX CRS-7</td>\n      <td>1,952 kg</td>\n      <td>LEO</td>\n      <td>[NASA, CRS]</td>\n      <td>Failure</td>\n      <td>F9 v1.1</td>\n      <td>Precluded</td>\n      <td>28 June 2015</td>\n      <td>14:21</td>\n    </tr>\n    <tr>\n      <th>19</th>\n      <td>20</td>\n      <td>Cape Canaveral</td>\n      <td>Orbcomm-OG2</td>\n      <td>2,034 kg</td>\n      <td>LEO</td>\n      <td>[Orbcomm]</td>\n      <td>Success\\n</td>\n      <td>F9 FT</td>\n      <td>Success</td>\n      <td>22 December 2015</td>\n      <td>01:29</td>\n    </tr>\n  </tbody>\n</table>\n</div>",
                        "text/plain": "   Flight No.     Launch site                               Payload  \\\n0           1           CCAFS  Dragon Spacecraft Qualification Unit   \n1           2           CCAFS                                Dragon   \n2           3           CCAFS                                Dragon   \n3           4           CCAFS                          SpaceX CRS-1   \n4           5           CCAFS                          SpaceX CRS-2   \n5           6            VAFB                              CASSIOPE   \n6           7           CCAFS                                 SES-8   \n7           8           CCAFS                             Thaicom 6   \n8           9  Cape Canaveral                          SpaceX CRS-3   \n9          10  Cape Canaveral                           Orbcomm-OG2   \n10         11  Cape Canaveral                             AsiaSat 8   \n11         12  Cape Canaveral                             AsiaSat 6   \n12         13  Cape Canaveral                          SpaceX CRS-4   \n13         14  Cape Canaveral                          SpaceX CRS-5   \n14         15  Cape Canaveral                                DSCOVR   \n15         16  Cape Canaveral                                ABS-3A   \n16         17  Cape Canaveral                          SpaceX CRS-6   \n17         18  Cape Canaveral          T\u00fcrkmen\u00c4lem 52\u00b0E / MonacoSAT   \n18         19  Cape Canaveral                          SpaceX CRS-7   \n19         20  Cape Canaveral                           Orbcomm-OG2   \n\n   Payload mass        Orbit                             Customer  \\\n0             0          LEO                             [SpaceX]   \n1             0          LEO                    [NASA, COTS, NRO]   \n2        525 kg          LEO                         [NASA, COTS]   \n3      4,700 kg          LEO                          [NASA, CRS]   \n4      4,877 kg          LEO                          [NASA, CRS]   \n5        500 kg  Polar orbit                                [MDA]   \n6      3,170 kg          GTO                                [SES]   \n7      3,325 kg          GTO                            [Thaicom]   \n8      2,296 kg          LEO                          [NASA, CRS]   \n9      1,316 kg          LEO                            [Orbcomm]   \n10     4,535 kg          GTO                            [AsiaSat]   \n11     4,428 kg          GTO                            [AsiaSat]   \n12     2,216 kg          LEO                          [NASA, CRS]   \n13     2,395 kg          LEO                          [NASA, CRS]   \n14       570 kg          HEO                   [USAF, NASA, NOAA]   \n15     4,159 kg          GTO                      [ABS, Eutelsat]   \n16     1,898 kg          LEO                          [NASA, CRS]   \n17     4,707 kg          GTO  [Turkmenistan NationalSpace Agency]   \n18     1,952 kg          LEO                          [NASA, CRS]   \n19     2,034 kg          LEO                            [Orbcomm]   \n\n   Launch outcome Version Booster Booster landing               Date   Time  \n0       Success\\n  F9 v1.0B0003.1         Failure        4 June 2010  18:45  \n1         Success  F9 v1.0B0004.1         Failure    8 December 2010  15:43  \n2         Success  F9 v1.0B0005.1    No attempt\\n        22 May 2012  07:44  \n3       Success\\n  F9 v1.0B0006.1      No attempt     8 October 2012  00:35  \n4       Success\\n  F9 v1.0B0007.1    No attempt\\n       1 March 2013  15:10  \n5         Success    F9 v1.1B1003    Uncontrolled  29 September 2013  16:00  \n6         Success         F9 v1.1      No attempt    3 December 2013  22:41  \n7         Success         F9 v1.1      No attempt     6 January 2014  22:06  \n8       Success\\n         F9 v1.1      Controlled      18 April 2014  19:25  \n9         Success         F9 v1.1      Controlled       14 July 2014  15:15  \n10        Success         F9 v1.1      No attempt      5 August 2014  08:00  \n11        Success         F9 v1.1    No attempt\\n   7 September 2014  05:00  \n12        Success         F9 v1.1    Uncontrolled  21 September 2014  05:52  \n13        Success         F9 v1.1        Failure     10 January 2015  09:47  \n14      Success\\n         F9 v1.1      Controlled   11 February 2015  23:03  \n15      Success\\n         F9 v1.1      No attempt       2 March 2015  03:50  \n16      Success\\n         F9 v1.1         Failure      14 April 2015  20:10  \n17      Success\\n         F9 v1.1      No attempt      27 April 2015  23:03  \n18        Failure         F9 v1.1       Precluded       28 June 2015  14:21  \n19      Success\\n           F9 FT         Success   22 December 2015  01:29  "
                    },
                    "execution_count": 162,
                    "metadata": {},
                    "output_type": "execute_result"
                }
            ],
            "source": "df.head(20)"
        },
        {
            "cell_type": "markdown",
            "metadata": {},
            "source": "We can now export it to a <b>CSV</b> for the next section, but to make the answers consistent and in case you have difficulties finishing this lab.\n\nFollowing labs will be using a provided dataset to make each lab independent.\n"
        },
        {
            "cell_type": "markdown",
            "metadata": {},
            "source": "<code>df.to_csv('spacex_web_scraped.csv', index=False)</code>\n"
        },
        {
            "cell_type": "markdown",
            "metadata": {},
            "source": "## Authors\n"
        },
        {
            "cell_type": "markdown",
            "metadata": {},
            "source": "<a href=\"https://www.linkedin.com/in/yan-luo-96288783/?utm_medium=Exinfluencer&utm_source=Exinfluencer&utm_content=000026UJ&utm_term=10006555&utm_id=NA-SkillsNetwork-Channel-SkillsNetworkCoursesIBMDS0321ENSkillsNetwork26802033-2021-01-01\">Yan Luo</a>\n"
        },
        {
            "cell_type": "markdown",
            "metadata": {},
            "source": "<a href=\"https://www.linkedin.com/in/nayefaboutayoun/?utm_medium=Exinfluencer&utm_source=Exinfluencer&utm_content=000026UJ&utm_term=10006555&utm_id=NA-SkillsNetwork-Channel-SkillsNetworkCoursesIBMDS0321ENSkillsNetwork26802033-2021-01-01\">Nayef Abou Tayoun</a>\n"
        },
        {
            "cell_type": "markdown",
            "metadata": {},
            "source": "## Change Log\n"
        },
        {
            "cell_type": "markdown",
            "metadata": {},
            "source": "| Date (YYYY-MM-DD) | Version | Changed By | Change Description          |\n| ----------------- | ------- | ---------- | --------------------------- |\n| 2021-06-09        | 1.0     | Yan Luo    | Tasks updates               |\n| 2020-11-10        | 1.0     | Nayef      | Created the initial version |\n"
        },
        {
            "cell_type": "markdown",
            "metadata": {},
            "source": "Copyright \u00a9 2021 IBM Corporation. All rights reserved.\n"
        }
    ],
    "metadata": {
        "kernelspec": {
            "display_name": "Python 3.8",
            "language": "python",
            "name": "python3"
        },
        "language_info": {
            "codemirror_mode": {
                "name": "ipython",
                "version": 3
            },
            "file_extension": ".py",
            "mimetype": "text/x-python",
            "name": "python",
            "nbconvert_exporter": "python",
            "pygments_lexer": "ipython3",
            "version": "3.8.11"
        }
    },
    "nbformat": 4,
    "nbformat_minor": 4
}