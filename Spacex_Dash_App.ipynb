{
    "cells": [
        {
            "cell_type": "code",
            "execution_count": 2,
            "metadata": {},
            "outputs": [
                {
                    "name": "stdout",
                    "output_type": "stream",
                    "text": "Requirement already satisfied: dash in /opt/conda/envs/Python-3.8-main/lib/python3.8/site-packages (2.0.0)\nRequirement already satisfied: Flask>=1.0.4 in /opt/conda/envs/Python-3.8-main/lib/python3.8/site-packages (from dash) (2.0.2)\nRequirement already satisfied: plotly>=5.0.0 in /opt/conda/envs/Python-3.8-main/lib/python3.8/site-packages (from dash) (5.3.1)\nRequirement already satisfied: dash-core-components==2.0.0 in /opt/conda/envs/Python-3.8-main/lib/python3.8/site-packages (from dash) (2.0.0)\nRequirement already satisfied: flask-compress in /opt/conda/envs/Python-3.8-main/lib/python3.8/site-packages (from dash) (1.10.1)\nRequirement already satisfied: dash-table==5.0.0 in /opt/conda/envs/Python-3.8-main/lib/python3.8/site-packages (from dash) (5.0.0)\nRequirement already satisfied: dash-html-components==2.0.0 in /opt/conda/envs/Python-3.8-main/lib/python3.8/site-packages (from dash) (2.0.0)\nRequirement already satisfied: click>=7.1.2 in /opt/conda/envs/Python-3.8-main/lib/python3.8/site-packages (from Flask>=1.0.4->dash) (7.1.2)\nRequirement already satisfied: Jinja2>=3.0 in /opt/conda/envs/Python-3.8-main/lib/python3.8/site-packages (from Flask>=1.0.4->dash) (3.0.0)\nRequirement already satisfied: Werkzeug>=2.0 in /opt/conda/envs/Python-3.8-main/lib/python3.8/site-packages (from Flask>=1.0.4->dash) (2.0.1)\nRequirement already satisfied: itsdangerous>=2.0 in /opt/conda/envs/Python-3.8-main/lib/python3.8/site-packages (from Flask>=1.0.4->dash) (2.0.1)\nRequirement already satisfied: MarkupSafe>=2.0.0rc2 in /opt/conda/envs/Python-3.8-main/lib/python3.8/site-packages (from Jinja2>=3.0->Flask>=1.0.4->dash) (2.0.1)\nRequirement already satisfied: tenacity>=6.2.0 in /opt/conda/envs/Python-3.8-main/lib/python3.8/site-packages (from plotly>=5.0.0->dash) (8.0.1)\nRequirement already satisfied: six in /opt/conda/envs/Python-3.8-main/lib/python3.8/site-packages (from plotly>=5.0.0->dash) (1.15.0)\nRequirement already satisfied: brotli in /opt/conda/envs/Python-3.8-main/lib/python3.8/site-packages (from flask-compress->dash) (1.0.9)\nRequirement already satisfied: plotly in /opt/conda/envs/Python-3.8-main/lib/python3.8/site-packages (5.3.1)\nRequirement already satisfied: tenacity>=6.2.0 in /opt/conda/envs/Python-3.8-main/lib/python3.8/site-packages (from plotly) (8.0.1)\nRequirement already satisfied: six in /opt/conda/envs/Python-3.8-main/lib/python3.8/site-packages (from plotly) (1.15.0)\n"
                }
            ],
            "source": "! pip install dash\n! pip install plotly\n"
        },
        {
            "cell_type": "code",
            "execution_count": 3,
            "metadata": {},
            "outputs": [
                {
                    "name": "stdout",
                    "output_type": "stream",
                    "text": "--2021-11-13 18:18:00--  https://cf-courses-data.s3.us.cloud-object-storage.appdomain.cloud/IBM-DS0321EN-SkillsNetwork/datasets/spacex_launch_dash.csv\nResolving cf-courses-data.s3.us.cloud-object-storage.appdomain.cloud (cf-courses-data.s3.us.cloud-object-storage.appdomain.cloud)... 169.63.118.104\nConnecting to cf-courses-data.s3.us.cloud-object-storage.appdomain.cloud (cf-courses-data.s3.us.cloud-object-storage.appdomain.cloud)|169.63.118.104|:443... connected.\nHTTP request sent, awaiting response... 200 OK\nLength: 3033 (3.0K) [text/csv]\nSaving to: \u2018spacex_launch_dash.csv\u2019\n\nspacex_launch_dash. 100%[===================>]   2.96K  --.-KB/s    in 0s      \n\n2021-11-13 18:18:01 (151 MB/s) - \u2018spacex_launch_dash.csv\u2019 saved [3033/3033]\n\n"
                }
            ],
            "source": "!wget \"https://cf-courses-data.s3.us.cloud-object-storage.appdomain.cloud/IBM-DS0321EN-SkillsNetwork/datasets/spacex_launch_dash.csv\""
        },
        {
            "cell_type": "code",
            "execution_count": 4,
            "metadata": {},
            "outputs": [],
            "source": "# Import required libraries\nimport pandas as pd\nimport dash\nimport dash_html_components as html\nimport dash_core_components as dcc\nfrom dash.dependencies import Input, Output\nimport plotly.express as px"
        },
        {
            "cell_type": "code",
            "execution_count": 5,
            "metadata": {},
            "outputs": [],
            "source": "# Read the airline data into pandas dataframe\n\nspacex_df = pd.read_csv(\"spacex_launch_dash.csv\")\nmax_payload = spacex_df['Payload Mass (kg)'].max()\nmin_payload = spacex_df['Payload Mass (kg)'].min()\n\nmarks = {0:'0',1000:'1000kg',2000:'2000kg',3000:'3000kg',4000:'4000kg',5000:'5000kg',6000:'6000kg',7000:'7000kg',8000:'8000kg',9000:'9000kg',10000:'10000kg'}"
        },
        {
            "cell_type": "code",
            "execution_count": null,
            "metadata": {},
            "outputs": [
                {
                    "name": "stdout",
                    "output_type": "stream",
                    "text": "Dash is running on http://127.0.0.1:8050/\n\n * Serving Flask app '__main__' (lazy loading)\n * Environment: production\n\u001b[31m   WARNING: This is a development server. Do not use it in a production deployment.\u001b[0m\n\u001b[2m   Use a production WSGI server instead.\u001b[0m\n * Debug mode: off\n"
                },
                {
                    "name": "stderr",
                    "output_type": "stream",
                    "text": " * Running on http://127.0.0.1:8050/ (Press CTRL+C to quit)\n"
                }
            ],
            "source": "# Create a dash application\napp = dash.Dash(__name__)\n\n# Create an app layout\napp.layout = html.Div(children=[html.H1('SpaceX Launch Records Dashboard',\n                                        style={'textAlign': 'center', 'color': '#503D36',\n                                               'font-size': 40}),\n                                # 1: Add a dropdown list to enable Launch Site selection\n                                # The default select value is for ALL sites\n                                dcc.Dropdown(id='site-dropdown', \n                                    options=[{'label':'All Sites', 'value':'ALL'},\n                                            {'label':'Cape Canaveral Space Launch Complex 40', 'value': 'CCAFS LC-40'},\n                                            {'label':'Cape Canaveral Space Launch Complex 40 New', 'value': 'CCAFS SLC-40'},\n                                            {'label':'Kennedy Space Center Launch Complex 39', 'value': 'KSC LC-39A'},\n                                            {'label':'Vandenberg Space Launch Complex 4','value':'VAFB SLC-4E'}],\n                                    placeholder=\"Select a Launch Site here\", \n                                    value = 'ALL',\n                                    clearable = False,\n                                    searchable=True),\n                                html.Br(),\n\n                                # 2: Add a pie chart to show the total successful launches count for all sites\n                                # If a specific launch site was selected, show the Success vs. Failed counts for the site\n                                html.Div(dcc.Graph(id='success-pie-chart')),\n                                html.Br(),\n\n                                html.P(\"Payload range (Kg):\"),\n                                # 3: Add a slider to select payload range\n                                dcc.RangeSlider(id='payload-slider',\n                                                min=0, max=10000, \n                                                step=1000,\n                                                value=(min_payload, max_payload),\n                                                marks=marks),\n\n                                # 4: Add a scatter chart to show the correlation between payload and launch success\n                                #dcc.Graph(id='success-payload-scatter-chart', figure={}),\n                                html.Div(dcc.Graph(id='success-payload-scatter-chart')),\n                                ])\n\n# 2: Add a callback function for `site-dropdown` as input, `success-pie-chart` as output\n\n@app.callback(\n    Output(component_id='success-pie-chart', component_property='figure'),\n    [Input(component_id='site-dropdown', component_property='value')]\n)\ndef update_graph(option_std):\n    print(option_std)\n    print(type(option_std))\n\n    df = spacex_df.copy()\n    \n    if option_std == 'ALL':\n        df0 = df[df['class']==1]\n        fig = px.pie(df0, values='class', names='Launch Site')\n    else:\n        df1 = df[df['Launch Site']== option_std]\n        fig = px.pie(df1, names='class')\n\n    # fig.show()\n    return fig\n\n# 4: Add a callback function for `site-dropdown` and `payload-slider` as inputs, `success-payload-scatter-chart` as output\n\n@app.callback(\n    Output(component_id='success-payload-scatter-chart', component_property='figure'),\n    [Input(component_id='site-dropdown', component_property='value'),\n    Input(component_id=\"payload-slider\", component_property=\"value\")]\n)\ndef update_graph(option_std, sliderx):\n\n    df2 = spacex_df.copy()\n    df2 = df2[(df2['Payload Mass (kg)'] > sliderx[0]) & (df2['Payload Mass (kg)'] < sliderx[1])]\n    if option_std == 'ALL':\n        fig = px.scatter(df2, x='Payload Mass (kg)', y='class', color=\"Booster Version Category\")\n    else:\n        df3 = df2[df2['Launch Site']== option_std]\n        fig = px.scatter(df3, x='Payload Mass (kg)', y='class', color=\"Booster Version Category\")\n \n    # fig.show()\n    return fig\n\n\n# Run the app\nif __name__ == '__main__':\n    app.run_server()"
        },
        {
            "cell_type": "code",
            "execution_count": null,
            "metadata": {},
            "outputs": [],
            "source": ""
        }
    ],
    "metadata": {
        "gist": {
            "data": {
                "description": "Documents/DataAnalyse/IBM_Data_Kurs/Capstone_Project/Untitled.ipynb",
                "public": true
            },
            "id": ""
        },
        "kernelspec": {
            "display_name": "Python 3.8",
            "language": "python",
            "name": "python3"
        },
        "language_info": {
            "codemirror_mode": {
                "name": "ipython",
                "version": 3
            },
            "file_extension": ".py",
            "mimetype": "text/x-python",
            "name": "python",
            "nbconvert_exporter": "python",
            "pygments_lexer": "ipython3",
            "version": "3.8.12"
        }
    },
    "nbformat": 4,
    "nbformat_minor": 4
}